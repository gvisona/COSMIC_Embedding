{
 "cells": [
  {
   "cell_type": "code",
   "execution_count": 1,
   "metadata": {},
   "outputs": [],
   "source": [
    "import numpy as np\n",
    "import pandas as pd\n",
    "import json\n",
    "import matplotlib.pyplot as plt\n",
    "import umap\n",
    "import os\n",
    "from os.path import join\n",
    "from tqdm import tqdm\n",
    "from disease_ontology import sorted_cancer_subtypes\n",
    "\n",
    "from scipy.sparse import csr_matrix\n",
    "from sklearn.svm import SVC, OneClassSVM\n",
    "from sklearn.model_selection import cross_validate, train_test_split, KFold\n",
    "from sklearn.metrics import classification_report, confusion_matrix, roc_auc_score\n",
    "from sklearn.preprocessing import StandardScaler\n",
    "\n",
    "# import warnings\n",
    "# warnings.filterwarnings(\"ignore\")"
   ]
  },
  {
   "cell_type": "code",
   "execution_count": 2,
   "metadata": {},
   "outputs": [],
   "source": [
    "sample_encodings = pd.read_csv(join(\"data\", \"sample_subtype_encodings.csv\"))\n",
    "sample_ids = sample_encodings[\"ID_sample\"].astype(str).values\n",
    "subtype_encodings = sample_encodings.values[:,1:]\n",
    "with open(join(\"data\", \"sorted_mutations.json\"), \"r\") as f:\n",
    "    sorted_mutations = json.load(f)\n",
    "\n",
    "embeddings_data = pd.read_csv(join(\"embeddings\", \"mmd_vae_embeddings.csv\"))\n",
    "embeddings = embeddings_data.values[:,1:] "
   ]
  },
  {
   "cell_type": "code",
   "execution_count": 3,
   "metadata": {},
   "outputs": [],
   "source": [
    "scaler = StandardScaler()\n",
    "standardized_embeddings = scaler.fit_transform(embeddings)"
   ]
  },
  {
   "cell_type": "code",
   "execution_count": 7,
   "metadata": {},
   "outputs": [
    {
     "name": "stderr",
     "output_type": "stream",
     "text": [
      "56it [2:00:41, 129.32s/it]\n"
     ]
    }
   ],
   "source": [
    "embeddings_evaluation = []\n",
    "raw_evaluations = []\n",
    "np.random.seed(100)\n",
    "\n",
    "for i, st in tqdm(enumerate(sorted_cancer_subtypes)):\n",
    "    labels = subtype_encodings[:,i]\n",
    "    positive_samples = np.where(labels==1)[0]\n",
    "    negative_samples = np.where(labels==0)[0]\n",
    "    n_positive_samples = len(positive_samples)\n",
    "    if len(positive_samples)>=len(negative_samples):\n",
    "        selected_idxs = list(range(len(labels)))\n",
    "    else:\n",
    "        sampled_negative_examples = np.random.choice(negative_samples, len(positive_samples), replace=False)\n",
    "        selected_idxs = np.concatenate((positive_samples, sampled_negative_examples))\n",
    "    np.random.shuffle(selected_idxs)\n",
    "    clf = SVC(C=3, kernel=\"linear\", random_state=42, class_weight='balanced')\n",
    "    scoring = ['accuracy', 'precision_macro', 'recall_macro', 'roc_auc']\n",
    "    X = standardized_embeddings#[selected_idxs,:]\n",
    "    y = labels#[selected_idxs]\n",
    "    scores = cross_validate(clf, X, y, scoring=scoring, cv=3)\n",
    "\n",
    "    accuracy = np.median(scores[\"test_accuracy\"])\n",
    "    precision = np.median(scores[\"test_precision_macro\"])\n",
    "    recall = np.median(scores[\"test_recall_macro\"])\n",
    "    auc = np.median(scores[\"test_roc_auc\"])\n",
    "    raw_evaluations.append((st, n_positive_samples, auc, accuracy, precision, recall))\n",
    "    accuracy = \"{:.2f} %\".format(accuracy*100)\n",
    "    precision = \"{:.2f} %\".format(precision*100)\n",
    "    recall = \"{:.2f} %\".format(recall*100)\n",
    "    auc = str(round(auc, 2))\n",
    "    embeddings_evaluation.append((st, n_positive_samples, auc, accuracy, precision, recall))\n"
   ]
  },
  {
   "cell_type": "code",
   "execution_count": 8,
   "metadata": {
    "collapsed": true,
    "jupyter": {
     "outputs_hidden": true
    }
   },
   "outputs": [
    {
     "data": {
      "text/plain": [
       "[('hepatocellular_carcinoma', 849, '0.73', '54.40 %', '52.10 %', '62.54 %'),\n",
       " ('liver_cancer', 1315, '0.67', '54.89 %', '52.34 %', '58.96 %'),\n",
       " ('colon_adenocarcinoma', 575, '0.78', '66.44 %', '52.13 %', '65.89 %'),\n",
       " ('colon_carcinoma', 582, '0.78', '66.48 %', '52.23 %', '65.74 %'),\n",
       " ('colon_cancer', 633, '0.79', '64.61 %', '52.34 %', '65.87 %'),\n",
       " ('colorectal_cancer', 633, '0.79', '64.61 %', '52.34 %', '65.87 %'),\n",
       " ('intestinal_cancer', 1814, '0.81', '72.73 %', '58.41 %', '66.31 %'),\n",
       " ('esophageal_carcinoma', 969, '0.8', '62.63 %', '53.44 %', '72.70 %'),\n",
       " ('stomach_cancer', 906, '0.81', '56.94 %', '53.23 %', '63.67 %'),\n",
       " ('biliary_tract_cancer', 613, '0.62', '60.07 %', '50.77 %', '57.51 %'),\n",
       " ('gastrointestinal_system_cancer',\n",
       "  6255,\n",
       "  '0.8',\n",
       "  '69.35 %',\n",
       "  '67.46 %',\n",
       "  '62.16 %'),\n",
       " ('integumentary_system_cancer', 668, '0.63', '67.00 %', '51.02 %', '58.94 %'),\n",
       " ('diffuse_large_B_cell_lymphoma',\n",
       "  256,\n",
       "  '0.68',\n",
       "  '59.22 %',\n",
       "  '50.74 %',\n",
       "  '59.50 %'),\n",
       " ('lymphoma', 760, '0.74', '57.64 %', '52.03 %', '67.00 %'),\n",
       " ('acute_myeloid_leukaemia', 942, '0.84', '75.05 %', '55.39 %', '62.76 %'),\n",
       " ('T_cell_acute_lymphoblastic_leukemia',\n",
       "  359,\n",
       "  '0.81',\n",
       "  '73.74 %',\n",
       "  '51.55 %',\n",
       "  '72.18 %'),\n",
       " ('B_cell_acute_lymphoblastic_leukemia',\n",
       "  251,\n",
       "  '0.78',\n",
       "  '66.40 %',\n",
       "  '50.87 %',\n",
       "  '70.07 %'),\n",
       " ('lymphoid_leukemia', 778, '0.75', '54.81 %', '52.22 %', '64.30 %'),\n",
       " ('chronic_lymphocytic_leukemia',\n",
       "  798,\n",
       "  '0.83',\n",
       "  '63.13 %',\n",
       "  '53.36 %',\n",
       "  '76.60 %'),\n",
       " ('leukemia', 3059, '0.81', '71.79 %', '63.11 %', '69.12 %'),\n",
       " ('immune_system_cancer', 3847, '0.78', '71.08 %', '65.16 %', '68.34 %'),\n",
       " ('breast_ductal_carcinoma', 122, '0.63', '69.69 %', '50.16 %', '55.47 %'),\n",
       " ('breast_cancer', 1819, '0.62', '52.22 %', '52.33 %', '58.70 %'),\n",
       " ('lung_adenocarcinoma', 778, '0.57', '54.18 %', '50.71 %', '55.43 %'),\n",
       " ('lung_squamous_cell_carcinoma', 506, '0.8', '67.74 %', '52.19 %', '69.75 %'),\n",
       " ('lung_cancer', 1639, '0.6', '78.46 %', '52.90 %', '57.61 %'),\n",
       " ('respiratory_system_cancer', 2157, '0.69', '82.36 %', '57.87 %', '62.26 %'),\n",
       " ('thoracic_cancer', 3976, '0.63', '61.57 %', '55.14 %', '55.71 %'),\n",
       " ('ovarian_cancer', 643, '0.65', '53.88 %', '51.06 %', '60.82 %'),\n",
       " ('cervical_cancer', 253, '0.69', '60.26 %', '50.66 %', '66.38 %'),\n",
       " ('endometrial_cancer', 399, '0.71', '55.76 %', '51.13 %', '68.28 %'),\n",
       " ('female_reproductive_organ_cancer',\n",
       "  1297,\n",
       "  '0.67',\n",
       "  '51.26 %',\n",
       "  '52.68 %',\n",
       "  '63.92 %'),\n",
       " ('prostate_adenocarcinoma', 817, '0.64', '56.92 %', '51.24 %', '59.86 %'),\n",
       " ('male_reproductive_organ_cancer',\n",
       "  1135,\n",
       "  '0.65',\n",
       "  '62.66 %',\n",
       "  '51.91 %',\n",
       "  '61.11 %'),\n",
       " ('reproductive_organ_cancer', 2432, '0.62', '50.13 %', '52.82 %', '58.20 %'),\n",
       " ('pancreatic_ductal_carcinoma', 737, '0.78', '72.22 %', '53.22 %', '73.86 %'),\n",
       " ('pancreatic_cancer', 1052, '0.72', '70.66 %', '53.19 %', '68.07 %'),\n",
       " ('thyroid_gland_cancer', 943, '0.82', '68.06 %', '53.74 %', '73.52 %'),\n",
       " ('adrenal_gland_cancer', 318, '0.88', '73.07 %', '51.82 %', '71.91 %'),\n",
       " ('endocrine_gland_cancer', 2403, '0.73', '53.17 %', '55.80 %', '67.00 %'),\n",
       " ('clear_cell_renal_cell_carcinoma',\n",
       "  1161,\n",
       "  '0.75',\n",
       "  '63.07 %',\n",
       "  '52.85 %',\n",
       "  '65.38 %'),\n",
       " ('kidney_cancer', 1938, '0.72', '53.80 %', '54.07 %', '63.26 %'),\n",
       " ('urinary_bladder_cancer', 501, '0.75', '59.66 %', '51.58 %', '63.21 %'),\n",
       " ('urinary_system_cancer', 2439, '0.63', '50.39 %', '52.80 %', '57.76 %'),\n",
       " ('brain_glioma', 1451, '0.64', '55.17 %', '52.41 %', '61.26 %'),\n",
       " ('brain_cancer', 1820, '0.66', '43.59 %', '52.77 %', '60.04 %'),\n",
       " ('central_nervous_system_cancer',\n",
       "  2171,\n",
       "  '0.67',\n",
       "  '40.66 %',\n",
       "  '53.65 %',\n",
       "  '60.69 %'),\n",
       " ('nervous_system_cancer', 2703, '0.71', '51.30 %', '56.02 %', '60.99 %'),\n",
       " ('connective_tissue_cancer', 505, '0.69', '53.36 %', '51.19 %', '65.42 %'),\n",
       " ('squamous_cell_carcinoma', 2273, '0.81', '62.79 %', '57.80 %', '69.29 %'),\n",
       " ('adenocarcinoma', 4079, '0.73', '71.20 %', '61.04 %', '59.07 %'),\n",
       " ('carcinoma', 16377, '0.79', '71.20 %', '71.30 %', '63.10 %'),\n",
       " ('astrocytoma', 972, '0.59', '52.07 %', '51.05 %', '57.22 %'),\n",
       " ('malignant_glioma', 1656, '0.63', '54.49 %', '52.18 %', '58.98 %'),\n",
       " ('cancer', 25233, '0.56', '62.55 %', '50.44 %', '54.07 %'),\n",
       " ('benign_neoplasm', 416, '0.55', '63.80 %', '50.43 %', '54.18 %')]"
      ]
     },
     "execution_count": 8,
     "metadata": {},
     "output_type": "execute_result"
    }
   ],
   "source": [
    "embeddings_evaluation"
   ]
  },
  {
   "cell_type": "markdown",
   "metadata": {},
   "source": [
    "## Comparison to SVM trained on normal data"
   ]
  },
  {
   "cell_type": "code",
   "execution_count": 24,
   "metadata": {},
   "outputs": [],
   "source": [
    "with open(join(\"data\", \"mutations_mapping_split.json\"), \"r\") as f:\n",
    "    mutations_mapping = json.load(f)\n",
    "deleterious_mutations = {k: v[0] for k, v in mutations_mapping.items()}\n",
    "non_deleterious_mutations = {k: v[1] for k, v in mutations_mapping.items()}\n",
    "mutations_lookup = {m: i for i, m in enumerate(sorted_mutations)}"
   ]
  },
  {
   "cell_type": "code",
   "execution_count": 48,
   "metadata": {},
   "outputs": [
    {
     "name": "stderr",
     "output_type": "stream",
     "text": [
      "100%|██████████| 25645/25645 [00:00<00:00, 34573.32it/s]\n"
     ]
    }
   ],
   "source": [
    "del_mutations_cols = []\n",
    "del_mutations_rows = []\n",
    "del_data = []\n",
    "\n",
    "nd_mutations_cols = []\n",
    "nd_mutations_rows = []\n",
    "nd_data = []\n",
    "row_counter = 0\n",
    "for sid in tqdm(sample_ids):\n",
    "    if sid not in mutations_mapping.keys():\n",
    "        continue\n",
    "    del_mutations = deleterious_mutations[sid]\n",
    "    if len(del_mutations)<1:\n",
    "        del_data.append(0)\n",
    "        del_mutations_cols.append(0)\n",
    "        del_mutations_rows.append(row_counter)\n",
    "    else:\n",
    "        del_data.extend([1]*len(del_mutations))\n",
    "        del_mutations_cols.extend([mutations_lookup[m] for m in del_mutations])\n",
    "        del_mutations_rows.extend([row_counter]*len(del_mutations))    \n",
    "    \n",
    "    nd_mutations = deleterious_mutations[sid]\n",
    "    if len(nd_mutations)<1:\n",
    "        nd_data.append(0)\n",
    "        nd_mutations_cols.append(0)\n",
    "        nd_mutations_rows.append(row_counter)\n",
    "    else:\n",
    "        nd_data.extend([1]*len(nd_mutations))\n",
    "        nd_mutations_cols.extend([mutations_lookup[m] for m in nd_mutations])\n",
    "        nd_mutations_rows.extend([row_counter]*len(nd_mutations))\n",
    "\n",
    "    row_counter += 1\n",
    "\n",
    "del_mutations_cols = np.array(del_mutations_cols).astype(int)\n",
    "del_mutations_rows = np.array(del_mutations_rows).astype(int)\n",
    "\n",
    "nd_mutations_cols = np.array(nd_mutations_cols).astype(int)\n",
    "nd_mutations_rows = np.array(nd_mutations_rows).astype(int)\n",
    "\n",
    "\n",
    "del_mutations_profiles = csr_matrix((np.array(del_data), (del_mutations_rows, del_mutations_cols)))\n",
    "nd_mutations_profiles = csr_matrix((np.array(nd_data), (nd_mutations_rows, nd_mutations_cols)))"
   ]
  },
  {
   "cell_type": "code",
   "execution_count": 49,
   "metadata": {},
   "outputs": [
    {
     "data": {
      "text/plain": [
       "(25645, 12449)"
      ]
     },
     "execution_count": 49,
     "metadata": {},
     "output_type": "execute_result"
    }
   ],
   "source": [
    "del_mutations_profiles.shape"
   ]
  },
  {
   "cell_type": "code",
   "execution_count": 120,
   "metadata": {},
   "outputs": [
    {
     "name": "stderr",
     "output_type": "stream",
     "text": [
      "54it [6:35:13, 2911.64s/it]/home/gvisona/anaconda3/envs/ml/lib/python3.7/site-packages/sklearn/metrics/_classification.py:1221: UndefinedMetricWarning: Precision is ill-defined and being set to 0.0 in labels with no predicted samples. Use `zero_division` parameter to control this behavior.\n",
      "  _warn_prf(average, modifier, msg_start, len(result))\n",
      "/home/gvisona/anaconda3/envs/ml/lib/python3.7/site-packages/sklearn/metrics/_classification.py:1221: UndefinedMetricWarning: Precision is ill-defined and being set to 0.0 in labels with no predicted samples. Use `zero_division` parameter to control this behavior.\n",
      "  _warn_prf(average, modifier, msg_start, len(result))\n",
      "/home/gvisona/anaconda3/envs/ml/lib/python3.7/site-packages/sklearn/metrics/_classification.py:1221: UndefinedMetricWarning: Precision is ill-defined and being set to 0.0 in labels with no predicted samples. Use `zero_division` parameter to control this behavior.\n",
      "  _warn_prf(average, modifier, msg_start, len(result))\n",
      "56it [7:19:29, 470.88s/it] \n"
     ]
    }
   ],
   "source": [
    "del_mut_profiles_evaluation = []\n",
    "raw_del_evaluation = []\n",
    "nd_mut_profiles_evaluation = []\n",
    "raw_nd_evaluation = []\n",
    "np.random.seed(42)\n",
    "\n",
    "for i, st in tqdm(enumerate(sorted_cancer_subtypes)):\n",
    "    labels = subtype_encodings[:,i]\n",
    "    positive_samples = np.where(labels==1)[0]\n",
    "    negative_samples = np.where(labels==0)[0]\n",
    "    n_positive_samples = len(positive_samples)\n",
    "    if len(positive_samples)>=len(negative_samples):\n",
    "        selected_idxs = list(range(len(labels)))\n",
    "    else:\n",
    "        sampled_negative_examples = np.random.choice(negative_samples, len(positive_samples), replace=False)\n",
    "        selected_idxs = np.concatenate((positive_samples, sampled_negative_examples))\n",
    "    np.random.shuffle(selected_idxs)\n",
    "    \n",
    "    # Deleterious mutations\n",
    "    clf = SVC(C=3, kernel=\"linear\", random_state=42)\n",
    "    scoring = ['accuracy', 'precision_macro', 'recall_macro', 'roc_auc']\n",
    "    X = del_mutations_profiles[selected_idxs,:]\n",
    "    y = labels[selected_idxs]\n",
    "    scores = cross_validate(clf, X, y, scoring=scoring, cv=10)\n",
    "\n",
    "    accuracy = np.median(scores[\"test_accuracy\"])\n",
    "    precision = np.median(scores[\"test_precision_macro\"])\n",
    "    recall = np.median(scores[\"test_recall_macro\"])\n",
    "    auc = np.median(scores[\"test_roc_auc\"])\n",
    "    raw_del_evaluation.append((st, n_positive_samples, auc, accuracy, precision, recall))\n",
    "    accuracy = \"{:.2f} %\".format(accuracy*100)\n",
    "    precision = \"{:.2f} %\".format(precision*100)\n",
    "    recall = \"{:.2f} %\".format(recall*100)\n",
    "    auc = str(round(auc, 2))\n",
    "    del_mut_profiles_evaluation.append((st, n_positive_samples, auc, accuracy, precision, recall))\n",
    "    \n",
    "    # Non-deleterious mutations\n",
    "    clf = SVC(C=3, kernel=\"rbf\", random_state=42)\n",
    "    scoring = ['accuracy', 'precision_macro', 'recall_macro', 'roc_auc']\n",
    "    X = nd_mutations_profiles[selected_idxs,:]\n",
    "    y = labels[selected_idxs]\n",
    "    scores = cross_validate(clf, X, y, scoring=scoring, cv=10)\n",
    "\n",
    "    accuracy = np.median(scores[\"test_accuracy\"])\n",
    "    precision = np.median(scores[\"test_precision_macro\"])\n",
    "    recall = np.median(scores[\"test_recall_macro\"])\n",
    "    auc = np.median(scores[\"test_roc_auc\"])\n",
    "    raw_nd_evaluation.append((st, n_positive_samples, auc, accuracy, precision, recall))\n",
    "    accuracy = \"{:.2f} %\".format(accuracy*100)\n",
    "    precision = \"{:.2f} %\".format(precision*100)\n",
    "    recall = \"{:.2f} %\".format(recall*100)\n",
    "    auc = str(round(auc, 2))\n",
    "    nd_mut_profiles_evaluation.append((st, n_positive_samples, auc, accuracy, precision, recall))"
   ]
  },
  {
   "cell_type": "code",
   "execution_count": 17,
   "metadata": {},
   "outputs": [],
   "source": [
    "with open(join(\"embeddings\", \"svm_evaluation.txt\"), \"w\") as f:\n",
    "    \n",
    "    f.write(\"| Cancer Subtype | N. Pos. Samples | Embeddings AUC | Xdel AUC | Xnd AUC |\\n\")\n",
    "    f.write(\"| --- | --- | --- | --- | --- |\\n\")\n",
    "\n",
    "    for i in range(len(embeddings_evaluation)):\n",
    "        st = embeddings_evaluation[i][0]\n",
    "        n_positive_samples = embeddings_evaluation[i][1]\n",
    "        embeddings_auc = embeddings_evaluation[i][2]\n",
    "        xdel_auc = del_mut_profiles_evaluation[i][2]\n",
    "        xnd_auc = nd_mut_profiles_evaluation[i][2]\n",
    "        f.write(\"| {} | {} | {} | {} | {} |\\n\".format(st, n_positive_samples, embeddings_auc, xdel_auc, xnd_auc))"
   ]
  },
  {
   "cell_type": "code",
   "execution_count": null,
   "metadata": {},
   "outputs": [],
   "source": []
  }
 ],
 "metadata": {
  "kernelspec": {
   "display_name": "Python 3",
   "language": "python",
   "name": "python3"
  },
  "language_info": {
   "codemirror_mode": {
    "name": "ipython",
    "version": 3
   },
   "file_extension": ".py",
   "mimetype": "text/x-python",
   "name": "python",
   "nbconvert_exporter": "python",
   "pygments_lexer": "ipython3",
   "version": "3.7.9"
  }
 },
 "nbformat": 4,
 "nbformat_minor": 4
}
